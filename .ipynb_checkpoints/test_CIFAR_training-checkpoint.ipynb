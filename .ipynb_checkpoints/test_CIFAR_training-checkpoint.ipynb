{
 "cells": [
  {
   "cell_type": "code",
   "execution_count": 9,
   "metadata": {},
   "outputs": [],
   "source": [
    "import glob\n",
    "import pickle\n",
    "import numpy as np\n",
    "import sys\n",
    "import os\n",
    "import importlib\n",
    "from sklearn.metrics import classification_report\n",
    "\n",
    "sys.path.append(os.path.join(os.getcwd(), \"src\"))\n",
    "\n",
    "from dataset.dataloader import Dataloader\n",
    "from nn.module.sequential import Sequential\n",
    "from nn.layers.linear import Linear\n",
    "from nn.layers.batch_norm import BatchNorm\n",
    "from nn.activations.relu import ReLU\n",
    "from optimization.adam_optimizer import Adam\n",
    "from optimization.gd_optimizer import GD\n",
    "from nn.loss_functions.mse_loss import mse_loss\n",
    "import visualization_utils as viz_utils\n"
   ]
  },
  {
   "cell_type": "code",
   "execution_count": 11,
   "metadata": {},
   "outputs": [
    {
     "name": "stderr",
     "output_type": "stream",
     "text": [
      "\"wget\" ­Ґ пў«пҐвбп ў­гваҐ­­Ґ© Ё«Ё ў­Ґи­Ґ©\n",
      "Є®¬ ­¤®©, ЁбЇ®«­пҐ¬®© Їа®Ја ¬¬®© Ё«Ё Ї ЄҐв­л¬ д ©«®¬.\n"
     ]
    }
   ],
   "source": [
    "!wget https://www.cs.toronto.edu/~kriz/cifar-10-python.tar.gz"
   ]
  },
  {
   "cell_type": "markdown",
   "metadata": {
    "id": "TZqa3p3MxWZj"
   },
   "source": [
    "И распакуем его"
   ]
  },
  {
   "cell_type": "code",
   "execution_count": 4,
   "metadata": {
    "executionInfo": {
     "elapsed": 3504,
     "status": "ok",
     "timestamp": 1648883002641,
     "user": {
      "displayName": "Олег Дмитриевич Сомов",
      "userId": "03877505905935419968"
     },
     "user_tz": -180
    },
    "id": "jDvOHt6MysJ8"
   },
   "outputs": [
    {
     "name": "stderr",
     "output_type": "stream",
     "text": [
      "tar: Error opening archive: Failed to open 'cifar-10-python.tar.gz'\n"
     ]
    }
   ],
   "source": [
    "!tar -xzf cifar-10-python.tar.gz"
   ]
  },
  {
   "cell_type": "markdown",
   "metadata": {
    "id": "E-_cRoYIy3IW"
   },
   "source": [
    "На выходе будем иметь следующие файлы"
   ]
  },
  {
   "cell_type": "code",
   "execution_count": null,
   "metadata": {},
   "outputs": [],
   "source": []
  },
  {
   "cell_type": "code",
   "execution_count": 5,
   "metadata": {
    "colab": {
     "base_uri": "https://localhost:8080/"
    },
    "executionInfo": {
     "elapsed": 25,
     "status": "ok",
     "timestamp": 1648883002642,
     "user": {
      "displayName": "Олег Дмитриевич Сомов",
      "userId": "03877505905935419968"
     },
     "user_tz": -180
    },
    "id": "GmuHdwXTybRl",
    "outputId": "809b04d1-ee9a-4328-9ad4-db35de6d4cb2"
   },
   "outputs": [],
   "source": [
    "files = glob.glob(\"cifar-10-batches-py/**\")\n",
    "files = [item.split('/')[-1] for item in files]\n",
    "for file in sorted(files):\n",
    "    print(f\"-{file}\")"
   ]
  },
  {
   "cell_type": "markdown",
   "metadata": {
    "id": "lau7dPSh2EtR"
   },
   "source": [
    "Из этих файлов нас интересуют data_batch_1, data_batch_2, ..., data_batch_5 -- это файлы с тренировочными данными, и файл test_batch -- это файл с тестовыми данными, на которых мы будем измерять свои метрики.\n",
    "\n",
    "Посмотрим ближе на структуру файлов"
   ]
  },
  {
   "cell_type": "code",
   "execution_count": 47,
   "metadata": {
    "executionInfo": {
     "elapsed": 23,
     "status": "ok",
     "timestamp": 1648883002642,
     "user": {
      "displayName": "Олег Дмитриевич Сомов",
      "userId": "03877505905935419968"
     },
     "user_tz": -180
    },
    "id": "TugvX-pxzU09"
   },
   "outputs": [],
   "source": [
    "with open(\"cifar-10-batches-py/data_batch_1\", \"rb\") as f:\n",
    "    train_dataset_1 = pickle.load(f, encoding=\"bytes\")"
   ]
  },
  {
   "cell_type": "markdown",
   "metadata": {
    "id": "LORvX4wo3HeX"
   },
   "source": [
    "Датасет содержит следующие ключи:"
   ]
  },
  {
   "cell_type": "code",
   "execution_count": 48,
   "metadata": {
    "colab": {
     "base_uri": "https://localhost:8080/"
    },
    "executionInfo": {
     "elapsed": 23,
     "status": "ok",
     "timestamp": 1648883002642,
     "user": {
      "displayName": "Олег Дмитриевич Сомов",
      "userId": "03877505905935419968"
     },
     "user_tz": -180
    },
    "id": "JB1PDjQ820rd",
    "outputId": "5a9b7b6e-b337-4796-9215-4f8c35f0106f"
   },
   "outputs": [
    {
     "name": "stdout",
     "output_type": "stream",
     "text": [
      "-batch_label\n",
      "-labels\n",
      "-data\n",
      "-filenames\n"
     ]
    }
   ],
   "source": [
    "for key in train_dataset_1.keys():\n",
    "    print(f\"-{key.decode('utf-8')}\")"
   ]
  },
  {
   "cell_type": "markdown",
   "metadata": {
    "id": "nbPXqQO03k-p"
   },
   "source": [
    "Ключ `batch_label` нас не интересует, так как содержит только лишь информацию о номере бача"
   ]
  },
  {
   "cell_type": "code",
   "execution_count": 49,
   "metadata": {
    "colab": {
     "base_uri": "https://localhost:8080/",
     "height": 35
    },
    "executionInfo": {
     "elapsed": 20,
     "status": "ok",
     "timestamp": 1648883002642,
     "user": {
      "displayName": "Олег Дмитриевич Сомов",
      "userId": "03877505905935419968"
     },
     "user_tz": -180
    },
    "id": "z4gD7ZE23TtO",
    "outputId": "7c116c55-1fff-41cc-8b5e-71530482fe67"
   },
   "outputs": [
    {
     "data": {
      "text/plain": [
       "'training batch 1 of 5'"
      ]
     },
     "execution_count": 49,
     "metadata": {},
     "output_type": "execute_result"
    }
   ],
   "source": [
    "train_dataset_1[b'batch_label'].decode('utf-8')"
   ]
  },
  {
   "cell_type": "markdown",
   "metadata": {
    "id": "APDSFzsK38xW"
   },
   "source": [
    "Ключ `filenames` в данном случае нас тоже не интересует, так как он содержит названия файлов, которые мы без привлечения языковых моделей использовать не сможем"
   ]
  },
  {
   "cell_type": "code",
   "execution_count": 50,
   "metadata": {
    "colab": {
     "base_uri": "https://localhost:8080/"
    },
    "executionInfo": {
     "elapsed": 20,
     "status": "ok",
     "timestamp": 1648883002642,
     "user": {
      "displayName": "Олег Дмитриевич Сомов",
      "userId": "03877505905935419968"
     },
     "user_tz": -180
    },
    "id": "pkeViI4Z377b",
    "outputId": "0414c9f9-e1b9-4d62-e6bf-8ca6f9237570"
   },
   "outputs": [
    {
     "name": "stdout",
     "output_type": "stream",
     "text": [
      "Первые 10 названий:\n",
      "-leptodactylus_pentadactylus_s_000004.png\n",
      "-camion_s_000148.png\n",
      "-tipper_truck_s_001250.png\n",
      "-american_elk_s_001521.png\n",
      "-station_wagon_s_000293.png\n",
      "-coupe_s_001735.png\n",
      "-cassowary_s_001300.png\n",
      "-cow_pony_s_001168.png\n",
      "-sea_boat_s_001584.png\n",
      "-tabby_s_001355.png\n"
     ]
    }
   ],
   "source": [
    "print(\"Первые 10 названий:\")\n",
    "for name in train_dataset_1[b'filenames'][:10]:\n",
    "    print(f\"-{name.decode('utf-8')}\")"
   ]
  },
  {
   "cell_type": "markdown",
   "metadata": {
    "id": "E_ON69UZ5Ond"
   },
   "source": [
    "Остаются два наиболее интересных ключа, это `data` и `labels`.\n",
    "\n",
    "Как нетрудно догадаться, `labels` содержит классы. Выведем первые 10 элементов:"
   ]
  },
  {
   "cell_type": "code",
   "execution_count": 51,
   "metadata": {
    "colab": {
     "base_uri": "https://localhost:8080/"
    },
    "executionInfo": {
     "elapsed": 18,
     "status": "ok",
     "timestamp": 1648883002643,
     "user": {
      "displayName": "Олег Дмитриевич Сомов",
      "userId": "03877505905935419968"
     },
     "user_tz": -180
    },
    "id": "jfrBz2XA3iGe",
    "outputId": "9ec034ee-0b00-4666-af1d-0c1bab89a4c3"
   },
   "outputs": [
    {
     "name": "stdout",
     "output_type": "stream",
     "text": [
      "[6, 9, 9, 4, 1, 1, 2, 7, 8, 3]\n"
     ]
    }
   ],
   "source": [
    "print(train_dataset_1[b'labels'][:10])"
   ]
  },
  {
   "cell_type": "markdown",
   "metadata": {
    "id": "L9qndsSb6DCJ"
   },
   "source": [
    "Классы представлены числовыми метками. В принципе нам нет необходимости знать соответствие между ними, однако эти данные можно найти в файле `batches.meta`:"
   ]
  },
  {
   "cell_type": "code",
   "execution_count": 52,
   "metadata": {
    "colab": {
     "base_uri": "https://localhost:8080/"
    },
    "executionInfo": {
     "elapsed": 15,
     "status": "ok",
     "timestamp": 1648883002643,
     "user": {
      "displayName": "Олег Дмитриевич Сомов",
      "userId": "03877505905935419968"
     },
     "user_tz": -180
    },
    "id": "EvjYQIzo5lCJ",
    "outputId": "2d55d44a-c265-4fdc-ce3c-928f53b962bc"
   },
   "outputs": [
    {
     "name": "stdout",
     "output_type": "stream",
     "text": [
      "0: airplane\n",
      "1: automobile\n",
      "2: bird\n",
      "3: cat\n",
      "4: deer\n",
      "5: dog\n",
      "6: frog\n",
      "7: horse\n",
      "8: ship\n",
      "9: truck\n"
     ]
    }
   ],
   "source": [
    "with open(\"cifar-10-batches-py/batches.meta\", \"rb\") as f:\n",
    "    classes_names = pickle.load(f, encoding=\"bytes\")\n",
    "\n",
    "for ind, name in enumerate(classes_names[b'label_names']):\n",
    "    print(f\"{ind}: {name.decode('utf-8')}\")"
   ]
  },
  {
   "cell_type": "markdown",
   "metadata": {
    "id": "MfoVeTys7bZL"
   },
   "source": [
    "Ключ `data` содержит уже сами числовые данные"
   ]
  },
  {
   "cell_type": "code",
   "execution_count": 53,
   "metadata": {
    "colab": {
     "base_uri": "https://localhost:8080/"
    },
    "executionInfo": {
     "elapsed": 13,
     "status": "ok",
     "timestamp": 1648883002643,
     "user": {
      "displayName": "Олег Дмитриевич Сомов",
      "userId": "03877505905935419968"
     },
     "user_tz": -180
    },
    "id": "QCbE-E_Q6fpP",
    "outputId": "9c077497-c606-46e4-c7f5-db5d72c40e96"
   },
   "outputs": [
    {
     "name": "stdout",
     "output_type": "stream",
     "text": [
      "Количество данных: 10000\n",
      "Размер вектора: (3072,)\n"
     ]
    }
   ],
   "source": [
    "print(f\"Количество данных: {len(train_dataset_1[b'data'])}\")\n",
    "print(f\"Размер вектора: {train_dataset_1[b'data'][0].shape}\")"
   ]
  },
  {
   "cell_type": "markdown",
   "metadata": {
    "id": "sWv6MG1_AUuK"
   },
   "source": [
    "Теперь интересно посмотреть на сбалансированность меток по разбиениям. Для этого загрузим все тестовые разбиения"
   ]
  },
  {
   "cell_type": "code",
   "execution_count": 54,
   "metadata": {
    "executionInfo": {
     "elapsed": 4,
     "status": "ok",
     "timestamp": 1648883003000,
     "user": {
      "displayName": "Олег Дмитриевич Сомов",
      "userId": "03877505905935419968"
     },
     "user_tz": -180
    },
    "id": "Tema94CMAfi3"
   },
   "outputs": [],
   "source": [
    "with open(\"cifar-10-batches-py/data_batch_2\", \"rb\") as f:\n",
    "    train_dataset_2 = pickle.load(f, encoding=\"bytes\")\n",
    "\n",
    "with open(\"cifar-10-batches-py/data_batch_3\", \"rb\") as f:\n",
    "    train_dataset_3 = pickle.load(f, encoding=\"bytes\")\n",
    "\n",
    "with open(\"cifar-10-batches-py/data_batch_4\", \"rb\") as f:\n",
    "    train_dataset_4 = pickle.load(f, encoding=\"bytes\")\n",
    "\n",
    "with open(\"cifar-10-batches-py/data_batch_5\", \"rb\") as f:\n",
    "    train_dataset_5 = pickle.load(f, encoding=\"bytes\")"
   ]
  },
  {
   "cell_type": "markdown",
   "metadata": {
    "id": "xOf4mXaCFUNi"
   },
   "source": [
    "И посчитаем скаолько раз каждая метка встречается в каждом датасете"
   ]
  },
  {
   "cell_type": "code",
   "execution_count": 55,
   "metadata": {
    "colab": {
     "base_uri": "https://localhost:8080/"
    },
    "executionInfo": {
     "elapsed": 3,
     "status": "ok",
     "timestamp": 1648883003000,
     "user": {
      "displayName": "Олег Дмитриевич Сомов",
      "userId": "03877505905935419968"
     },
     "user_tz": -180
    },
    "id": "3fG84kSqA6jX",
    "outputId": "8dd1577a-603d-45a8-d70e-4e9d0a3f73c7"
   },
   "outputs": [
    {
     "name": "stdout",
     "output_type": "stream",
     "text": [
      "|=====|======|======|======|======|======|======|\n",
      "|Label|Data 1|Data 2|Data 3|Data 4|Data 5| Sum  |\n",
      "|=====|======|======|======|======|======|======|\n",
      "|  0  | 1005 | 984  | 994  | 1003 | 1014 | 5000 |\n",
      "|  1  | 974  | 1007 | 1042 | 963  | 1014 | 5000 |\n",
      "|  2  | 1032 | 1010 | 965  | 1041 | 952  | 5000 |\n",
      "|  3  | 1016 | 995  | 997  | 976  | 1016 | 5000 |\n",
      "|  4  | 999  | 1010 | 990  | 1004 | 997  | 5000 |\n",
      "|  5  | 937  | 988  | 1029 | 1021 | 1025 | 5000 |\n",
      "|  6  | 1030 | 1008 | 978  | 1004 | 980  | 5000 |\n",
      "|  7  | 1001 | 1026 | 1015 | 981  | 977  | 5000 |\n",
      "|  8  | 1025 | 987  | 961  | 1024 | 1003 | 5000 |\n",
      "|  9  | 981  | 985  | 1029 | 983  | 1022 | 5000 |\n",
      "|=====|======|======|======|======|======|======|\n"
     ]
    }
   ],
   "source": [
    "datasets = [train_dataset_1, train_dataset_2, train_dataset_3, \n",
    "            train_dataset_4, train_dataset_5]\n",
    "\n",
    "labels = list(range(10))\n",
    "\n",
    "print(\"|=====|{}|{}|{}|{}|{}|{}|\".format(\n",
    "    \"=\" * 6, \"=\" * 6, \"=\" * 6, \"=\" * 6, \"=\" * 6, \"=\" * 6))\n",
    "print(\"|Label|{0:^{1}}|{2:^{3}}|{4:^{5}}|{6:^{7}}|{8:^{9}}|{10:^{11}}|\".format(\n",
    "    \"Data 1\", 6, \"Data 2\", 6, \"Data 3\", 6, \"Data 4\", 6, \"Data 5\", 6, \"Sum\", 6))\n",
    "print(\"|=====|{}|{}|{}|{}|{}|{}|\".format(\n",
    "    \"=\" * 6, \"=\" * 6, \"=\" * 6, \"=\" * 6, \"=\" * 6, \"=\" * 6))\n",
    "\n",
    "for label in labels:\n",
    "    print(\"|{0:^{1}}|\".format(label, 5), end='')\n",
    "    label_num = 0\n",
    "    for dataset in datasets:\n",
    "        print(\"{0:^{1}}|\".format(dataset[b'labels'].count(label), 6), end='')\n",
    "        label_num += dataset[b'labels'].count(label)\n",
    "    print(\"{0:^{1}}|\".format(label_num, 6))\n",
    "\n",
    "print(\"|=====|{}|{}|{}|{}|{}|{}|\".format(\n",
    "    \"=\" * 6, \"=\" * 6, \"=\" * 6, \"=\" * 6, \"=\" * 6, \"=\" * 6))"
   ]
  },
  {
   "cell_type": "markdown",
   "metadata": {
    "id": "qn3rD5jXI1NE"
   },
   "source": [
    "Как видим, данные не сбалансированы по разбиениям, поэтому объединим все в один датасет и разобьем это на два датасета, тренировочный и валидационный, при этом сразу поделим значения каждого вектора на 256, чтобы иметь интенсивность в относительных единицах (хотя максимум на 255)"
   ]
  },
  {
   "cell_type": "code",
   "execution_count": 56,
   "metadata": {
    "executionInfo": {
     "elapsed": 1598,
     "status": "ok",
     "timestamp": 1648883004597,
     "user": {
      "displayName": "Олег Дмитриевич Сомов",
      "userId": "03877505905935419968"
     },
     "user_tz": -180
    },
    "id": "XhbyPu0DJXnA"
   },
   "outputs": [],
   "source": [
    "train_dataset = []\n",
    "\n",
    "for dataset in datasets:\n",
    "    for vec, label in zip(dataset[b'data'], dataset[b'labels']):\n",
    "        train_dataset.append((vec / 256, label))"
   ]
  },
  {
   "cell_type": "markdown",
   "metadata": {
    "id": "L-HusJA0NnTl"
   },
   "source": [
    "На валидационную выборку оставим 10000 элементов, по 1000 примеров из каждого класса, выбранных случайно"
   ]
  },
  {
   "cell_type": "code",
   "execution_count": 57,
   "metadata": {
    "executionInfo": {
     "elapsed": 2,
     "status": "ok",
     "timestamp": 1648883004597,
     "user": {
      "displayName": "Олег Дмитриевич Сомов",
      "userId": "03877505905935419968"
     },
     "user_tz": -180
    },
    "id": "-KKnNko_M5CK"
   },
   "outputs": [],
   "source": [
    "np.random.seed(42)\n",
    "np.random.shuffle(train_dataset)\n",
    "\n",
    "train_data = []\n",
    "valid_data = []\n",
    "\n",
    "cnt = {ind: 0 for ind in range(10)}\n",
    "\n",
    "for vec, label in train_dataset:\n",
    "    if cnt[label] < 1000:\n",
    "        cnt[label] += 1\n",
    "        valid_data.append((vec, label))\n",
    "    else:\n",
    "        train_data.append((vec, label))"
   ]
  },
  {
   "cell_type": "markdown",
   "metadata": {
    "id": "1hayc1VwP_QI"
   },
   "source": [
    "Подготовим еще тестовый датасет"
   ]
  },
  {
   "cell_type": "code",
   "execution_count": 58,
   "metadata": {
    "executionInfo": {
     "elapsed": 274,
     "status": "ok",
     "timestamp": 1648883004870,
     "user": {
      "displayName": "Олег Дмитриевич Сомов",
      "userId": "03877505905935419968"
     },
     "user_tz": -180
    },
    "id": "CkSriEjbQCWc"
   },
   "outputs": [],
   "source": [
    "with open(\"cifar-10-batches-py/test_batch\", \"rb\") as f:\n",
    "    test_dataset = pickle.load(f, encoding=\"bytes\")\n",
    "\n",
    "test_data = []\n",
    "for vec, label in zip(test_dataset[b'data'], test_dataset[b'labels']):\n",
    "    test_data.append((vec / 256, label))"
   ]
  },
  {
   "cell_type": "markdown",
   "metadata": {
    "id": "VKabQkB7Qa4m"
   },
   "source": [
    "Посмотрим на статистики"
   ]
  },
  {
   "cell_type": "code",
   "execution_count": 59,
   "metadata": {
    "colab": {
     "base_uri": "https://localhost:8080/"
    },
    "executionInfo": {
     "elapsed": 278,
     "status": "ok",
     "timestamp": 1648883005147,
     "user": {
      "displayName": "Олег Дмитриевич Сомов",
      "userId": "03877505905935419968"
     },
     "user_tz": -180
    },
    "id": "ZL8rU-rSOmlb",
    "outputId": "efab952d-056d-49e1-994c-be7e9641edac"
   },
   "outputs": [
    {
     "name": "stdout",
     "output_type": "stream",
     "text": [
      "|=====|======|======|======|======|\n",
      "|Label|Train |Valid | Test | Sum  |\n",
      "|=====|======|======|======|======|\n",
      "|  0  | 4000 | 1000 | 1000 | 6000 |\n",
      "|  1  | 4000 | 1000 | 1000 | 6000 |\n",
      "|  2  | 4000 | 1000 | 1000 | 6000 |\n",
      "|  3  | 4000 | 1000 | 1000 | 6000 |\n",
      "|  4  | 4000 | 1000 | 1000 | 6000 |\n",
      "|  5  | 4000 | 1000 | 1000 | 6000 |\n",
      "|  6  | 4000 | 1000 | 1000 | 6000 |\n",
      "|  7  | 4000 | 1000 | 1000 | 6000 |\n",
      "|  8  | 4000 | 1000 | 1000 | 6000 |\n",
      "|  9  | 4000 | 1000 | 1000 | 6000 |\n",
      "|=====|======|======|======|======|\n"
     ]
    }
   ],
   "source": [
    "print(\"|=====|{}|{}|{}|{}|\".format(\"=\" * 6, \"=\" * 6, \"=\" * 6, \"=\" * 6))\n",
    "print(\"|Label|{0:^{1}}|{2:^{3}}|{4:^{5}}|{6:^{7}}|\".format(\n",
    "    \"Train\", 6, \"Valid\", 6, \"Test\", 6, \"Sum\", 6))\n",
    "print(\"|=====|{}|{}|{}|{}|\".format(\"=\" * 6, \"=\" * 6, \"=\" * 6, \"=\" * 6))\n",
    "\n",
    "labels = list(range(10))\n",
    "for label in labels:\n",
    "    print(\"|{0:^{1}}|\".format(label, 5), end='')\n",
    "    label_num = 0\n",
    "    for dataset in (train_data, valid_data, test_data):\n",
    "        labels_data = [item[1] for item in dataset]\n",
    "        print(\"{0:^{1}}|\".format(labels_data.count(label), 6), end='')\n",
    "        label_num += labels_data.count(label)\n",
    "    print(\"{0:^{1}}|\".format(label_num, 6))\n",
    "\n",
    "print(\"|=====|{}|{}|{}|{}|\".format(\"=\" * 6, \"=\" * 6, \"=\" * 6, \"=\" * 6))"
   ]
  },
  {
   "cell_type": "code",
   "execution_count": null,
   "metadata": {},
   "outputs": [],
   "source": []
  },
  {
   "cell_type": "markdown",
   "metadata": {
    "id": "Y2RjpwgTirLS"
   },
   "source": [
    "## Обучение"
   ]
  },
  {
   "cell_type": "markdown",
   "metadata": {
    "id": "FpnHIkYYuf7-"
   },
   "source": [
    "Перед обучением отнормируем все данные"
   ]
  },
  {
   "cell_type": "code",
   "execution_count": 60,
   "metadata": {
    "executionInfo": {
     "elapsed": 3076,
     "status": "ok",
     "timestamp": 1648883008897,
     "user": {
      "displayName": "Олег Дмитриевич Сомов",
      "userId": "03877505905935419968"
     },
     "user_tz": -180
    },
    "id": "s99SRxTXukcN"
   },
   "outputs": [],
   "source": [
    "train_matrix = np.array([item[0] for item in train_data])\n",
    "D = np.var(train_matrix, axis=0)\n",
    "E = np.mean(train_matrix, axis=0)\n",
    "\n",
    "for ind in range(len(train_data)):\n",
    "    train_data[ind] = (train_data[ind][0] - E, train_data[ind][1])\n",
    "    train_data[ind] = (train_data[ind][0] / np.sqrt(D), train_data[ind][1])\n",
    "\n",
    "for ind in range(len(valid_data)):\n",
    "    valid_data[ind] = (valid_data[ind][0] - E, valid_data[ind][1])\n",
    "    valid_data[ind] = (valid_data[ind][0] / np.sqrt(D), valid_data[ind][1])\n",
    "\n",
    "for ind in range(len(test_data)):\n",
    "    test_data[ind] = (test_data[ind][0] - E, test_data[ind][1])\n",
    "    test_data[ind] = (test_data[ind][0] / np.sqrt(D), test_data[ind][1])"
   ]
  },
  {
   "cell_type": "markdown",
   "metadata": {
    "id": "Q8G7aHQui10I"
   },
   "source": [
    "Возьмем небольшую сеть и посмотрим на ней качество, будем использовать далее его в качестве референса"
   ]
  },
  {
   "cell_type": "code",
   "execution_count": 61,
   "metadata": {
    "colab": {
     "base_uri": "https://localhost:8080/"
    },
    "executionInfo": {
     "elapsed": 393,
     "status": "ok",
     "timestamp": 1648883009289,
     "user": {
      "displayName": "Олег Дмитриевич Сомов",
      "userId": "03877505905935419968"
     },
     "user_tz": -180
    },
    "id": "WVSt9QNffX2W",
    "outputId": "84c98ac3-4411-4e63-a227-c8e6084c98b0"
   },
   "outputs": [
    {
     "data": {
      "text/plain": [
       "Sequential(\n",
       "\tLinear(3072, 768, bias=True),\n",
       "\tReLU(),\n",
       "\tLinear(768, 128, bias=True),\n",
       "\tReLU(),\n",
       "\tLinear(128, 10, bias=True)\n",
       ")"
      ]
     },
     "execution_count": 61,
     "metadata": {},
     "output_type": "execute_result"
    }
   ],
   "source": [
    "np.random.seed(42)\n",
    "model = Sequential(\n",
    "    Linear(3072, 768),\n",
    "    ReLU(),\n",
    "    Linear(768, 128),\n",
    "    ReLU(),\n",
    "    Linear(128, 10)\n",
    ")\n",
    "model"
   ]
  },
  {
   "cell_type": "markdown",
   "metadata": {
    "id": "H6TgKN0RjjT8"
   },
   "source": [
    "Запустим обучение, чтобы проверить, что модель хотя бы как-то работает. Запустим на 10 эпохах."
   ]
  },
  {
   "cell_type": "code",
   "execution_count": 62,
   "metadata": {
    "colab": {
     "base_uri": "https://localhost:8080/"
    },
    "executionInfo": {
     "elapsed": 321901,
     "status": "ok",
     "timestamp": 1648883331188,
     "user": {
      "displayName": "Олег Дмитриевич Сомов",
      "userId": "03877505905935419968"
     },
     "user_tz": -180
    },
    "id": "vP9CH_QKjfgb",
    "outputId": "d5ab0a54-a06d-4076-c02e-ad28f056866f"
   },
   "outputs": [
    {
     "name": "stdout",
     "output_type": "stream",
     "text": [
      "|Epoch|Train loss|Train acc|Valid loss|Valid acc|  Grad/W  | Time, s  | Total, s |\n",
      "|=====|==========|=========|==========|=========|==========|==========|==========|\n",
      "| 1/10|  4.1859  | 0.2228  |  4.2547  | 0.2198  | 0.009321 |   10.5   |   10.5   |\n",
      "| 2/10|  2.5723  | 0.2559  |  2.5680  | 0.2497  | 0.006326 |   11.6   |   22.2   |\n",
      "| 3/10|  2.1379  | 0.3210  |  2.1715  | 0.3134  | 0.003249 |   12.0   |   34.2   |\n",
      "| 4/10|  1.6925  | 0.3070  |  1.7188  | 0.3051  | 0.002533 |   11.1   |   45.3   |\n",
      "| 5/10|  1.5060  | 0.3503  |  1.5335  | 0.3377  | 0.002016 |   11.1   |   56.5   |\n",
      "| 6/10|  1.3573  | 0.3595  |  1.3994  | 0.3406  | 0.002390 |   11.5   |   68.0   |\n",
      "| 7/10|  1.2702  | 0.3710  |  1.3206  | 0.3467  | 0.001495 |   12.3   |   80.3   |\n",
      "| 8/10|  1.2254  | 0.3808  |  1.2722  | 0.3578  | 0.001483 |   12.1   |   92.4   |\n",
      "| 9/10|  1.1728  | 0.4038  |  1.2263  | 0.3708  | 0.001121 |   11.7   |  104.0   |\n",
      "|10/10|  1.1318  | 0.4156  |  1.1929  | 0.3747  | 0.001342 |   11.3   |  115.3   |\n"
     ]
    }
   ],
   "source": [
    "train_loss_history, valid_loss_history, \\\n",
    "train_acc_history, valid_acc_history = train(\n",
    "    dataset=train_data, \n",
    "    model=model, \n",
    "    epochs=10,\n",
    "    lr=0.001,\n",
    "    valid_dataset=valid_data,\n",
    "    batch_size=10000)"
   ]
  },
  {
   "cell_type": "code",
   "execution_count": 63,
   "metadata": {},
   "outputs": [
    {
     "data": {
      "image/png": "[encoded data removed]",
      "text/plain": [
       "<Figure size 1008x360 with 2 Axes>"
      ]
     },
     "metadata": {
      "needs_background": "light"
     },
     "output_type": "display_data"
    }
   ],
   "source": [
    "viz_utils.plot_learning_curves(train_loss_history, valid_loss_history,\n",
    "                                train_acc_history, valid_acc_history)"
   ]
  },
  {
   "cell_type": "code",
   "execution_count": 64,
   "metadata": {},
   "outputs": [
    {
     "name": "stdout",
     "output_type": "stream",
     "text": [
      "Ошибка на тесте: 1.1932\n",
      "Точность на тесте: 0.3780\n"
     ]
    }
   ],
   "source": [
    "test_dataloader = Dataloader(test_data, len(test_data), False)\n",
    "model.eval()\n",
    "for vecs, labels in test_dataloader:\n",
    "    out = model.forward(vecs)\n",
    "\n",
    "    loss = loss_functions.hinge_loss.hinge_loss(out, labels)\n",
    "    test_loss = loss.item()\n",
    "\n",
    "    pred_labels = np.argmax(out.array, axis=-1)\n",
    "    test_acc = np.sum(pred_labels == labels) / len(labels)\n",
    "\n",
    "print(f\"Ошибка на тесте: {test_loss:.4f}\")\n",
    "print(f\"Точность на тесте: {test_acc:.4f}\")"
   ]
  },
  {
   "cell_type": "code",
   "execution_count": 65,
   "metadata": {},
   "outputs": [
    {
     "name": "stdout",
     "output_type": "stream",
     "text": [
      "              precision    recall  f1-score   support\n",
      "\n",
      "           0       0.53      0.34      0.41      1000\n",
      "           1       0.50      0.47      0.48      1000\n",
      "           2       0.31      0.18      0.23      1000\n",
      "           3       0.23      0.40      0.29      1000\n",
      "           4       0.31      0.30      0.31      1000\n",
      "           5       0.30      0.28      0.29      1000\n",
      "           6       0.38      0.37      0.37      1000\n",
      "           7       0.44      0.36      0.40      1000\n",
      "           8       0.47      0.61      0.53      1000\n",
      "           9       0.42      0.47      0.45      1000\n",
      "\n",
      "    accuracy                           0.38     10000\n",
      "   macro avg       0.39      0.38      0.38     10000\n",
      "weighted avg       0.39      0.38      0.38     10000\n",
      "\n"
     ]
    }
   ],
   "source": [
    "print(classification_report(labels, pred_labels))"
   ]
  },
  {
   "cell_type": "code",
   "execution_count": null,
   "metadata": {},
   "outputs": [],
   "source": []
  },
  {
   "cell_type": "code",
   "execution_count": null,
   "metadata": {},
   "outputs": [],
   "source": []
  }
 ],
 "metadata": {
  "kernelspec": {
   "display_name": "Python 3",
   "language": "python",
   "name": "python3"
  },
  "language_info": {
   "codemirror_mode": {
    "name": "ipython",
    "version": 3
   },
   "file_extension": ".py",
   "mimetype": "text/x-python",
   "name": "python",
   "nbconvert_exporter": "python",
   "pygments_lexer": "ipython3",
   "version": "3.8.1"
  }
 },
 "nbformat": 4,
 "nbformat_minor": 5
}
